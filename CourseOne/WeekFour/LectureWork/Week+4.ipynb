{
 "cells": [
  {
   "cell_type": "markdown",
   "metadata": {},
   "source": [
    "---\n",
    "\n",
    "_You are currently looking at **version 1.0** of this notebook. To download notebooks and datafiles, as well as get help on Jupyter notebooks in the Coursera platform, visit the [Jupyter Notebook FAQ](https://www.coursera.org/learn/python-data-analysis/resources/0dhYG) course resource._\n",
    "\n",
    "---"
   ]
  },
  {
   "cell_type": "markdown",
   "metadata": {},
   "source": [
    "# Distributions in Pandas"
   ]
  },
  {
   "cell_type": "code",
   "execution_count": 2,
   "metadata": {
    "collapsed": true
   },
   "outputs": [],
   "source": [
    "import pandas as pd\n",
    "import numpy as np"
   ]
  },
  {
   "cell_type": "code",
   "execution_count": 8,
   "metadata": {},
   "outputs": [
    {
     "data": {
      "text/plain": [
       "array([ 7,  4,  3,  3,  4,  3,  2,  4,  7,  8,  5,  6,  6,  7,  4,  5,  3,\n",
       "        7,  7,  4,  7,  4,  4,  3,  2,  5,  6,  5,  5,  2,  5,  7,  3,  8,\n",
       "        6,  6,  5,  3,  7,  3,  6,  6,  4,  6,  6,  4,  4,  5,  2,  6,  5,\n",
       "        5,  4,  4,  4,  3,  4,  5,  6,  4,  5,  4,  5,  5,  4,  5,  4,  2,\n",
       "        4,  3,  8,  6,  6,  8,  4,  4,  6,  4,  5,  5,  6,  7,  4,  2,  7,\n",
       "        6,  4,  5,  5,  6,  5,  5,  3,  6,  6,  5,  5,  6,  5,  4,  3,  4,\n",
       "        4,  6,  7,  4,  8,  6,  4,  5,  4,  2,  5,  4,  9,  4,  4,  6,  5,\n",
       "        6,  6,  3,  6,  5,  5,  5,  7,  3,  3,  4,  5,  7,  6,  3,  8,  6,\n",
       "        7,  7,  4,  6,  5,  3,  6,  6,  9,  5,  4,  4,  5,  7,  4,  4,  5,\n",
       "        4,  4,  8,  7,  5,  5,  2,  5,  4,  5,  6,  4,  7,  3,  3,  4,  5,\n",
       "        5,  4,  7,  7,  6,  6,  5,  8,  3,  7,  5,  4,  6,  8,  2,  3,  4,\n",
       "        8,  4,  3,  5,  5,  6,  3,  3,  6,  7,  7,  7,  5,  5,  4,  5,  6,\n",
       "        6,  7,  4,  3,  7,  4,  5,  7,  4,  6,  8,  6,  8,  4,  4,  7,  4,\n",
       "        4,  5,  5,  7,  6,  7,  3,  3,  7,  5,  6,  5,  4,  7,  3,  4,  5,\n",
       "        4,  8,  6,  5,  3,  4,  4,  4,  5,  6,  7,  7,  4,  7,  4,  7,  4,\n",
       "        6,  4,  6,  6,  4,  7,  5,  6,  6,  7,  3,  8,  3,  6,  4,  7,  6,\n",
       "        6,  2,  1,  6,  7,  6,  5,  5,  4,  3,  4,  4,  4,  6,  5,  6,  4,\n",
       "        6,  5,  3,  5,  4,  5,  3,  3,  5,  3,  4,  6,  6,  4,  3,  5,  6,\n",
       "        6,  6,  6,  4,  3,  6,  4,  4,  8,  5,  6,  2,  3,  3,  4,  6,  6,\n",
       "        5,  5,  8,  4,  4,  4,  7,  5,  3,  4,  3,  6,  3,  6,  4,  2,  6,\n",
       "        4,  3,  5,  2,  7,  5,  5,  5,  6,  7,  7,  6,  7,  5,  6,  5,  5,\n",
       "        5,  5,  6,  6,  3,  7,  4,  8,  6,  7,  5,  6,  3,  6,  5,  4,  7,\n",
       "        6,  4,  6,  7,  5,  5,  7,  5,  8,  6,  4,  5,  7,  7,  7,  3,  6,\n",
       "        5,  5,  5,  2,  5,  3,  8,  4,  7,  7,  3,  5,  7,  5,  5,  6,  6,\n",
       "        4,  4,  2,  7,  5,  7,  4,  7,  5,  6,  7,  4,  5,  5,  4,  7,  5,\n",
       "        6,  6,  9,  3,  6,  7,  5,  3,  6,  4,  3,  4,  4,  4,  9,  7,  4,\n",
       "        3,  8,  4,  6,  5,  2,  7,  6,  4,  8,  3,  5,  7,  7,  5,  4,  6,\n",
       "        3,  2,  6,  4,  6,  3,  4,  6,  5,  3,  5,  3,  3,  9,  6,  6,  3,\n",
       "        5,  6,  5,  6,  6,  3,  5,  6,  5,  5,  4,  6,  5,  4,  4,  5,  5,\n",
       "        4,  3,  7,  6,  5,  6,  5,  3,  6,  4,  5,  8,  4,  5,  6,  4,  1,\n",
       "        7,  6,  5,  6,  4,  2,  5,  4,  6,  5,  3,  4,  4,  2,  6,  3,  6,\n",
       "        4,  4,  5,  5,  4,  5,  3,  6,  3,  5,  8,  3,  2,  7,  2,  5,  7,\n",
       "        4,  6,  6,  5,  3,  4,  6,  2,  4,  6,  4,  4,  2,  8,  8,  4,  3,\n",
       "        4,  3,  7,  3,  3,  1,  4,  5,  4,  7,  7,  6,  5,  8,  5,  4,  7,\n",
       "        6,  7,  4,  3,  5,  5,  3,  8,  4,  6,  6,  6,  6,  7, 10,  6,  5,\n",
       "        6,  2,  6,  4,  5,  4,  6,  4,  5,  8,  4,  5,  3,  6,  1,  3,  8,\n",
       "        6,  5,  7,  6,  4,  9,  6,  5,  6,  8,  5,  4,  3,  5,  4,  5,  6,\n",
       "        7,  5,  7,  3,  4,  6,  7,  6,  5,  6,  9,  3,  7,  7,  5,  7,  6,\n",
       "        4,  3,  4,  6,  5,  4,  7,  7,  4,  4,  6,  3,  7,  5,  6,  5,  5,\n",
       "        3,  5,  6,  7,  8,  6,  7,  4,  5,  5,  6,  5,  5,  6,  6,  5,  5,\n",
       "        7,  6,  5,  4,  4,  5,  4,  5,  4,  5,  5,  3,  3,  4,  9,  5,  6,\n",
       "        5,  8,  8,  5,  6,  6,  7,  5,  5,  2,  5,  5,  2,  5,  8,  6,  7,\n",
       "        4,  5,  5,  4,  5,  7,  7,  6,  4,  7,  4,  7,  6,  5,  6,  5,  7,\n",
       "        7,  3,  4,  7,  8,  4,  6,  4,  7,  6,  6,  5,  5,  4,  5,  5,  4,\n",
       "        6,  3,  1,  5,  6,  6,  3,  3,  3,  5,  4,  5,  6,  4,  5,  3,  3,\n",
       "        3,  6,  7,  4,  6,  4,  7,  6,  6,  5,  5,  6,  2,  5,  5,  7,  6,\n",
       "        3,  3,  6,  3,  2,  7,  7,  8,  3,  3,  5,  5,  2,  5,  6,  4,  5,\n",
       "        8,  6,  3,  5,  5,  9,  6,  5,  5,  5,  8,  3,  6,  4,  6,  3,  4,\n",
       "        3,  6,  3,  6,  6,  6,  1,  3,  8,  4,  8,  6,  3,  4,  5,  7,  5,\n",
       "        8,  4,  4,  7,  5,  8,  8,  5,  8,  3,  5,  4,  4,  7,  7,  8,  2,\n",
       "        4,  1,  5,  7,  4,  7,  5,  4,  3,  7,  4,  2,  6,  3,  6,  2,  5,\n",
       "        3,  6,  4,  7,  5,  6,  7,  5,  4,  6,  4,  6,  5,  5,  6,  5,  8,\n",
       "        5,  5,  3,  8,  5,  2,  5,  3,  3,  6,  4,  5,  4,  6,  6,  5,  3,\n",
       "        6,  6,  7,  2,  4,  8,  5,  4,  4,  4,  7,  3,  6,  7,  6,  6,  5,\n",
       "        3,  6,  5,  3,  5,  5,  3,  8,  3,  5,  2,  7,  6,  4,  4,  7,  5,\n",
       "        6,  6,  3,  6,  7,  5,  6,  5,  4,  4,  8,  6,  4,  5,  4,  7,  4,\n",
       "        5,  4,  4,  6,  5,  4,  7,  4,  5,  7,  5,  6,  5,  4,  7,  7,  4,\n",
       "        4,  5,  5,  5,  4,  5,  6,  4,  8,  7,  7,  3,  6,  5,  7,  4,  5,\n",
       "        3,  5,  5,  2,  8,  4,  4,  5,  5,  8,  4,  2,  1,  7])"
      ]
     },
     "execution_count": 8,
     "metadata": {},
     "output_type": "execute_result"
    }
   ],
   "source": [
    "np.random.binomial(10, 0.5, 1000)"
   ]
  },
  {
   "cell_type": "code",
   "execution_count": 6,
   "metadata": {},
   "outputs": [
    {
     "data": {
      "text/plain": [
       "0.488"
      ]
     },
     "execution_count": 6,
     "metadata": {},
     "output_type": "execute_result"
    }
   ],
   "source": [
    "np.random.binomial(1000, 0.5)/1000"
   ]
  },
  {
   "cell_type": "code",
   "execution_count": 10,
   "metadata": {},
   "outputs": [
    {
     "data": {
      "text/plain": [
       "7"
      ]
     },
     "execution_count": 10,
     "metadata": {},
     "output_type": "execute_result"
    }
   ],
   "source": [
    "chance_of_tornado = 0.01/100\n",
    "np.random.binomial(100000, chance_of_tornado)"
   ]
  },
  {
   "cell_type": "code",
   "execution_count": 12,
   "metadata": {},
   "outputs": [
    {
     "name": "stdout",
     "output_type": "stream",
     "text": [
      "102 tornadoes back to back in 2739.72602739726 years\n"
     ]
    }
   ],
   "source": [
    "chance_of_tornado = 0.01\n",
    "\n",
    "tornado_events = np.random.binomial(1, chance_of_tornado, 1000000)\n",
    "    \n",
    "two_days_in_a_row = 0\n",
    "for j in range(1,len(tornado_events)-1):\n",
    "    if tornado_events[j]==1 and tornado_events[j-1]==1:\n",
    "        two_days_in_a_row+=1\n",
    "\n",
    "print('{} tornadoes back to back in {} years'.format(two_days_in_a_row, 1000000/365))"
   ]
  },
  {
   "cell_type": "code",
   "execution_count": 24,
   "metadata": {},
   "outputs": [
    {
     "data": {
      "text/plain": [
       "0.978587231820507"
      ]
     },
     "execution_count": 24,
     "metadata": {},
     "output_type": "execute_result"
    }
   ],
   "source": [
    "np.random.uniform(0, 1)"
   ]
  },
  {
   "cell_type": "code",
   "execution_count": 32,
   "metadata": {},
   "outputs": [
    {
     "data": {
      "text/plain": [
       "1.1188355620316741"
      ]
     },
     "execution_count": 32,
     "metadata": {},
     "output_type": "execute_result"
    }
   ],
   "source": [
    "np.random.normal(0.75)"
   ]
  },
  {
   "cell_type": "markdown",
   "metadata": {},
   "source": [
    "Formula for standard deviation\n",
    "$$\\sqrt{\\frac{1}{N} \\sum_{i=1}^N (x_i - \\overline{x})^2}$$"
   ]
  },
  {
   "cell_type": "code",
   "execution_count": 44,
   "metadata": {},
   "outputs": [
    {
     "name": "stdout",
     "output_type": "stream",
     "text": [
      "[  9.41639599   9.15683012   8.96372722   9.25382856  11.42958705\n",
      "  10.17384462   9.94197246   9.65855618   9.0257683   10.70454924\n",
      "   7.26910909  10.12831895   8.4253105   11.21169071  10.01219377\n",
      "  10.92142454   9.62138488   9.84264456  10.38915941  10.28735627\n",
      "   9.33185797   9.28343605   8.08477513  10.00219112   8.90278033\n",
      "  10.2418507    9.30840775   7.40027594   7.86366801  11.44521861\n",
      "  11.20125213   8.49341184   9.23836951  10.15550816  10.2339093\n",
      "  10.63933504  11.63858272   9.17638333  13.03327197   9.7743678\n",
      "   9.7679192    9.02433205   8.8878472    6.9151064   11.06913414\n",
      "   9.09981271   8.57527054  10.62356256  12.714652    10.26515131\n",
      "  11.76255934  10.44384707   9.25078169   8.24925338   9.53409903\n",
      "   8.4549005    9.20175803  10.04032031  11.16684324  11.12903557\n",
      "   9.65948188  11.46744659  10.46840776   9.32274559   8.9654718\n",
      "   9.53806968  10.91093263  11.3577582   10.64504978   9.4483075\n",
      "  10.24188839   9.46179282   9.57988354  11.30957953   9.90493264\n",
      "  10.3162222    9.49119135   9.24179046   9.12204361   9.84877851\n",
      "   9.87758162  10.76288578  10.04075585  10.38077776   9.41680882\n",
      "   9.48690321   8.11580916   9.75351686  10.20618158  10.10585264\n",
      "  10.27076176   8.70026762   8.9877242    9.52993604  10.76467408\n",
      "  10.88218152  10.1628012   10.55843873  10.16372775   9.52770503\n",
      "  10.78779498   9.99168832  10.83220454  10.36393519  10.38835217\n",
      "  10.49680288   9.95366761  11.11962226   9.3242089   10.85084043\n",
      "   9.97672983   7.57559231   9.00097337  10.59205069   9.20184903\n",
      "   8.75512612   9.32842382   9.01599764  11.07063676   9.8985685\n",
      "   7.67866449  10.81600635  11.18888656   9.85905165   9.17894114\n",
      "  10.12042369  10.03308019   9.95381278  10.22493128   9.92609928\n",
      "   8.90640958   9.2851349   11.464746    11.37561647  11.14413788\n",
      "  10.93225385   9.89459123  11.04187073  11.09563052  11.20837857\n",
      "   9.78738464   9.86230206  10.67337109   9.92226911   8.91941338\n",
      "   9.03789042  11.44543685  11.12709578  10.8557936   10.91690077\n",
      "   9.96445383   9.41471918   8.64959556  11.0833489    8.60663208\n",
      "   9.26895692   9.25502879  10.90182271   9.55646955   8.14599359\n",
      "  10.0178311   11.22888156  10.08182899   9.55265413   9.89051656\n",
      "   9.46634151   7.29900329  10.22064898  11.38524001   9.8865642\n",
      "  10.17696257   9.44286708  10.76121797   9.24770762   9.58008793\n",
      "  10.08262326   9.99455801  10.68080769   9.95072112  10.1505032\n",
      "  10.51089937   8.64039661  10.5617381   12.42463848  10.50100833\n",
      "   9.83135934  10.92925323  11.27164646   9.06900703   9.82509087\n",
      "  10.90274236   9.83409341   9.16227478   8.93584954   9.98878928\n",
      "  10.75588166  10.16026079   9.44636279   8.52223121  10.4676862\n",
      "   9.0366152    9.48051995  11.40254453  10.26775848   8.34544652\n",
      "  10.36765519  10.56837078  10.78770587  10.34876172   9.46411774\n",
      "   8.06636198   9.43795806   8.43847968   9.22524049  11.20652469\n",
      "   9.48586543  11.00163199   9.50251473  10.86306437   9.88363314\n",
      "   8.41617148   9.16176368   9.90538415  10.05081309  10.98044104\n",
      "   9.52707897  10.56190678  11.06588484  10.04782022  10.47691158\n",
      "  10.20260328  11.16872493   9.76858372  10.06664332  10.00628671\n",
      "   9.20642512   9.41946449   9.57174852  10.28688378  10.39009045\n",
      "   9.27088441  12.93556209   9.182112     9.60361049   9.99960188\n",
      "  10.97357031  11.66813566  11.77801687  10.93531261   8.87675253\n",
      "  10.27953686  11.45966662   8.56694506   9.14017847  12.3818614\n",
      "  10.27559973   9.85983574  11.00793861  10.36746733  11.54219702\n",
      "   9.16080556  10.9862775   10.72384344   9.90272473  11.81779664\n",
      "   9.36453776  10.53486954  10.0916415    9.03603396   9.46652628\n",
      "   8.88333074  10.81633525  10.1232923    9.3236374    9.56422842\n",
      "  10.39721098  12.72033144   9.87196011   8.88868989   9.00240849\n",
      "  11.50305223   9.2689196    8.5863224   11.44655717   9.55904195\n",
      "   9.88299316   9.41592511  11.73411529   9.61532401  10.17603892\n",
      "  10.1388365   10.97558799  10.35212107   8.87837525   9.81592041\n",
      "   9.20640509   9.49804116  10.66915624   8.46019623   8.63206794\n",
      "   9.12091485  11.63148514   9.41870293  10.78399418  10.09809896\n",
      "   9.28065392  11.45009067   9.65886496   9.7895856    9.37722588\n",
      "  10.70955829   9.95474309  10.88909823   9.37356413  11.82666134\n",
      "   8.10051794  10.14828268   9.36032365   9.86539118   9.09965346\n",
      "  10.32721386  10.87915894  11.37111505  10.60103132  11.10712669\n",
      "  10.52456495   9.6757689   10.57190259  10.11983746   8.85228854\n",
      "   9.37725432   8.22509209   9.72963569   9.35833028   9.80216346\n",
      "   9.85981254   9.9795294   10.62604313  10.21104766  10.28106148\n",
      "  10.23735001   9.86041762   8.85793484   8.68242163   9.94215979\n",
      "   9.09666691   9.02587552   9.25865605   9.26270362   9.00548807\n",
      "   9.67773558  10.69429303   9.87174516  10.17766215  10.51996437\n",
      "   9.53201797   9.1997665   10.66573915  10.35024706   9.34785866\n",
      "  11.0946595   10.16959444   8.82897199   9.37127695   8.101783\n",
      "   9.27897754   8.84266358   9.92932017   7.62401766   8.73393323\n",
      "  10.59978704  11.44212859   9.6745678   11.96225852  11.52380017\n",
      "  10.93924554  10.93829649  11.92340649  11.07320617  10.30425002\n",
      "  10.75539836   8.97599777   8.53172668   9.78569985   9.43014289\n",
      "  11.08201309  10.78989701  11.32503345  10.83452612  10.60722076\n",
      "  10.02597476  10.41135357   8.44604888   7.52820701   9.68104006\n",
      "   9.9073039   11.20439451   9.68883114   9.34662003   9.96735721\n",
      "  10.11614786  10.18788902   9.94959852  10.58860814  10.0705792\n",
      "  10.66624622  10.6768442    9.25802186   9.69747671   8.1665172\n",
      "  10.07411733   9.78298258  11.55680056  10.08323175  10.63673556\n",
      "  10.64289715   9.40472627   8.68342556  10.5795817   10.2508805\n",
      "   9.33023477   8.90413698   9.12941951  10.22178309   8.62455128\n",
      "  10.31156115   9.71043587   8.44239413   9.45502924   9.4832452\n",
      "  11.05780398   9.60180434  10.20328335   8.28055383  12.12061867\n",
      "  10.05060258  10.73015836  10.93492115   9.34337469  10.0954      10.96029335\n",
      "  10.29889925  10.1062706    9.01536905   9.96648069  10.63382996\n",
      "   9.08334586  10.64579151   8.97944978  10.03616217   9.59912694\n",
      "  11.19864991   9.57222075  11.6874976    9.88727832  10.40257944\n",
      "   8.53086363   9.64967456   8.87146072  10.48548524   9.37802161\n",
      "   9.88554982   9.64512977  10.63783212  11.58947258   9.33416305\n",
      "  10.64004295   8.76077105  10.45815528  11.26513356  10.88257006\n",
      "   7.95842313   8.7461828   10.09956962  10.30069815   9.0085049\n",
      "  11.34181589  10.66596307   8.46687342  10.89528258  10.49771043\n",
      "   9.28443843   8.93202833   8.72563022   9.44866687  10.15822879\n",
      "   8.09512753  10.46339903   8.03469014  10.42004731   8.87514573\n",
      "  10.51752308   9.89765846   9.85252117   9.79590419   9.70173999\n",
      "   9.17933556   9.72008981  10.33361023  10.46320578   7.34336444\n",
      "   9.9718928    9.81200788  10.30947173   7.86097264   9.98160931\n",
      "  10.32092974   9.86111386  10.19617257  11.93537971  11.44037244\n",
      "  11.58616639   8.9952051    8.08822615  10.14772023   9.61636154\n",
      "  11.09046127  10.96187756   9.96359736   9.95369843   9.59485861\n",
      "   9.5231958    8.45750938  10.02524302  10.57953233   8.95069883\n",
      "   9.16011034  10.72690733   9.53462001  11.2135817   10.27036463\n",
      "   9.51226062   9.7232224   11.65975816  10.44188015   9.7153456\n",
      "   9.16770158  12.47001151  10.12066719   8.15464283   9.17405522\n",
      "  10.91654969  10.34914329  10.53347958  10.00110314   9.14314798\n",
      "   9.28593943   9.49107033   8.67687462   9.00695392  10.88081099\n",
      "   9.21791409  13.50775685   7.94270201   9.88728353   9.76400065\n",
      "   8.03587342  10.32931855  11.3626392   10.65154678  10.2282222\n",
      "   9.09369032  10.76156789   9.29904745   8.49859768  10.50613276\n",
      "  10.76974588   9.96296985  10.01371264  10.26695953   9.43992302\n",
      "   9.54791207   9.76305061  10.75189435   8.92003528   8.35674598\n",
      "  10.31976102   7.84672569   9.88652613   9.01865269  10.67030317\n",
      "   8.46954404  11.0267521    9.88113777  11.62670304  10.4585458\n",
      "   8.33191573   9.72950513   9.89668675   9.41475327  10.12794121\n",
      "  11.57604397   9.49248787   8.24745535   8.18974683   9.71059951\n",
      "  10.7252076    9.71502716   9.66917336  11.79047651   9.88438312\n",
      "   9.40048977   9.34505628  10.03636628   7.44820449   9.44948136\n",
      "   9.25532844   8.73178391   9.71447001   9.14864136  11.41318373\n",
      "  10.61207393  10.07039667   8.9424932    9.62282753   9.54963072\n",
      "   8.27103397   9.9075546    9.89367272   9.52646434  10.04373076\n",
      "  11.89122641  10.92650042   9.97980775   8.29861469   9.24039229\n",
      "   9.23262003   9.56269595   9.66084149  10.28373303  10.41381543\n",
      "  10.6340548   10.28064053  10.23014195   9.79091076  11.09962431\n",
      "   9.99478721   8.05990921   8.33936885   9.36829867  10.66610341\n",
      "   9.37403258  11.7667351    8.54025704   8.18948917   7.55501289\n",
      "  10.87066922   9.55890166  11.56335323   9.73556734   8.81515426\n",
      "   9.0978664   10.27668544   8.65987061   8.10349888   9.93434401\n",
      "   7.68612466   9.91023899  10.94825109   8.13859591  10.25215433\n",
      "   8.60600943   9.44466342   9.94050608   9.90322945  10.47775615\n",
      "   7.87377351  11.833312    10.83295066   9.42313477   9.09817902\n",
      "  10.76601085   9.9479384   12.22516588   9.98045116  10.4469312\n",
      "  10.20522092   9.83191709   9.73571075   9.54057456   8.8578209\n",
      "   8.97759463  10.80914571   9.67153753  11.5397234   10.0214644\n",
      "  11.58798935   8.93301268   8.08998649   9.19054804   8.47970795\n",
      "  10.54449851   9.7947358    9.99955805  10.48082572   9.24289437\n",
      "  10.25827814   9.28326592  10.83638055  10.96068149   8.95384294\n",
      "  10.34409778  10.64129041  10.99900777  10.4405998   11.58635337\n",
      "   8.85811221  10.38305352  10.62354229  11.71328992  11.47942386\n",
      "   9.92598583   9.2466979   10.28206287  10.00112552   9.23260409\n",
      "   9.0737766    9.65002068   9.41535363   7.680077     7.95378342\n",
      "  10.45917665   9.17658338  10.52829176  10.40372958  10.74468989\n",
      "  10.18916626  10.52092161   9.69550047   8.23577801   9.51330596\n",
      "  11.30893164   9.50257399  10.32499319   9.01554539   9.2688205\n",
      "  10.71625833   9.92284325   9.12357774   8.49426771   9.46963788\n",
      "   7.45597674   9.27756557   9.09188127  10.57788042   9.10791672\n",
      "  10.74545915   9.39831614   9.73782247   9.65727153  11.06512967\n",
      "   9.67706299  11.5737541   11.36967688   8.58440376   8.75545282\n",
      "   8.30181491  10.42232438   9.9518424    9.98092633  10.96009384\n",
      "   9.78447178   9.15190696  10.1430048    8.78925116   9.39351612\n",
      "   9.73640282   9.53756176   7.22526664   8.40385861   9.68339993\n",
      "  10.45226301   8.22714655  10.03850326   9.73650745  10.41771133\n",
      "  11.80046536  10.43563721  12.6896652    9.95792435  10.7973472\n",
      "   9.30919265   9.34603688   9.50241397   9.71554394  11.15655695\n",
      "   9.791601     9.57491506   9.55287747  10.37710737   9.19569663\n",
      "   9.20143963  10.03047639   9.63526807   9.4463667   11.35343722\n",
      "  10.34723536  10.85142252   8.61189951  11.37380715   9.20677687\n",
      "  10.09902506  10.03815608  11.39120419  10.96728217   8.93235716\n",
      "  10.26102501  10.18086475  10.16586121  10.40118749  10.9995551\n",
      "   9.75933737  10.46459852  10.60092573   8.37269567   9.05784969\n",
      "  10.91762742  10.80999486  10.13913166   8.98519007  10.47388444\n",
      "  10.69197056   8.12522394   8.09494653  12.44940619  11.71947787\n",
      "  10.67113474  10.20143774  10.04731094   8.81054888   9.88752697\n",
      "  10.36881757  10.32332372   9.14625097   7.37303129  10.95877629\n",
      "   9.5290911    8.87458535  10.27482691  10.58114132   8.60924565\n",
      "  10.68057534  10.17353228   9.80381398  10.43703666   8.60614047\n",
      "  10.40741839   9.83995919  10.26285382   9.96404847  10.01496651\n",
      "   9.19541474  11.76294083   9.85975835  11.02471163   7.7613217\n",
      "  10.04631103   7.84813435   8.80838555   9.73249281  10.03376087\n",
      "   9.24881992   9.38000507  11.744965     8.24969273   9.80852387\n",
      "   9.37927147   9.98923263   8.21372937  10.07594185   8.81141159\n",
      "   8.73296518   8.53758095  10.03897189   9.89129651  11.41201129\n",
      "   9.38948583   8.38698828  10.29774603  10.16806144  11.04286427\n",
      "  10.86041176  10.79401511  11.37583412   9.3314665    9.62255286\n",
      "   8.40091986  10.15870003   9.98430783  10.44430362  11.88677357\n",
      "  10.24745035  10.91595328  10.06975792   9.34104359  11.11874663\n",
      "   8.90166526  10.55273504  10.55826663  10.8111684    9.76824172\n",
      "   9.84726197  10.36408275  12.2485543   11.52608981  10.48805902\n",
      "   8.23104201   9.72829589  10.18363706   9.45496658   9.73852426\n",
      "   9.27949324  12.64791052   9.91038065   9.91817769   9.79138064\n",
      "  10.01480119  10.6849149   10.05728237  11.34419351  10.638451\n",
      "  10.05327803   8.93060462   8.95361362  10.74663234  10.21025094\n",
      "   8.26709086   7.58193433   9.43581587  11.19914417   9.50100375\n",
      "  11.09596785   7.88810194  10.76211506  10.81614039  10.06639406\n",
      "  10.59610144  10.42194353  10.11043341  10.25092008  10.81990321\n",
      "  10.75676454  10.91676772   9.90162115   8.21965635  10.87445661\n",
      "  11.10898284  10.6119478   10.30763631   8.75036609  10.32901942\n",
      "   9.89977728   9.99714303  10.1067655    9.84070349   7.36042166\n",
      "   9.44023498   7.99185359  10.60580713   8.69308193   8.93121503\n",
      "  10.91115134  10.11650699  10.50202966   9.16583116   9.74880748\n",
      "  10.03251083   9.20941278   9.55574036  10.63428577   9.50878702\n",
      "   9.8455542   10.18910201   9.33676452  11.3710724   10.47234414\n",
      "   9.52796972   9.8984811    8.76728039  10.24934993  10.93741364\n",
      "  10.02205893   7.76301993  10.97886954  11.23202901  10.00995826\n",
      "   9.62617631  10.19394616   9.15895003   8.69575773  10.5906112\n",
      "  10.01841689   9.4674556   10.70170037  10.30154972  10.28073994\n",
      "  11.43621141   9.59599023  10.05400078   9.51196787]\n"
     ]
    },
    {
     "data": {
      "text/plain": [
       "0.98738044230310229"
      ]
     },
     "execution_count": 44,
     "metadata": {},
     "output_type": "execute_result"
    }
   ],
   "source": [
    "distribution = np.random.normal(10,size=1000)\n",
    "print(distribution)\n",
    "np.sqrt(np.sum((np.mean(distribution)-distribution)**2)/len(distribution))"
   ]
  },
  {
   "cell_type": "code",
   "execution_count": 45,
   "metadata": {},
   "outputs": [
    {
     "data": {
      "image/png": "[encoded data removed]",
      "text/plain": [
       "<matplotlib.figure.Figure at 0x7f84e4a64780>"
      ]
     },
     "metadata": {},
     "output_type": "display_data"
    }
   ],
   "source": [
    "import matplotlib.pyplot as plt\n",
    "plt.plot(np.sort(distribution))\n",
    "plt.show()"
   ]
  },
  {
   "cell_type": "code",
   "execution_count": 35,
   "metadata": {
    "scrolled": true
   },
   "outputs": [
    {
     "data": {
      "text/plain": [
       "0.975000624202354"
      ]
     },
     "execution_count": 35,
     "metadata": {},
     "output_type": "execute_result"
    }
   ],
   "source": [
    "np.std(distribution)"
   ]
  },
  {
   "cell_type": "code",
   "execution_count": 46,
   "metadata": {},
   "outputs": [
    {
     "data": {
      "text/plain": [
       "0.2103438864473981"
      ]
     },
     "execution_count": 46,
     "metadata": {},
     "output_type": "execute_result"
    }
   ],
   "source": [
    "import scipy.stats as stats\n",
    "stats.kurtosis(distribution)"
   ]
  },
  {
   "cell_type": "code",
   "execution_count": 48,
   "metadata": {},
   "outputs": [
    {
     "data": {
      "text/plain": [
       "-0.03086590648265839"
      ]
     },
     "execution_count": 48,
     "metadata": {},
     "output_type": "execute_result"
    }
   ],
   "source": [
    "stats.skew(distribution)"
   ]
  },
  {
   "cell_type": "code",
   "execution_count": 56,
   "metadata": {},
   "outputs": [
    {
     "data": {
      "text/plain": [
       "2.9205564534969795"
      ]
     },
     "execution_count": 56,
     "metadata": {},
     "output_type": "execute_result"
    }
   ],
   "source": [
    "chi_squared_df2 = np.random.chisquare(1, size=10000)\n",
    "stats.skew(chi_squared_df2)"
   ]
  },
  {
   "cell_type": "code",
   "execution_count": 57,
   "metadata": {},
   "outputs": [
    {
     "data": {
      "text/plain": [
       "0.894074775419495"
      ]
     },
     "execution_count": 57,
     "metadata": {},
     "output_type": "execute_result"
    }
   ],
   "source": [
    "chi_squared_df5 = np.random.chisquare(10, size=10000)\n",
    "stats.skew(chi_squared_df5)"
   ]
  },
  {
   "cell_type": "code",
   "execution_count": 58,
   "metadata": {},
   "outputs": [
    {
     "data": {
      "text/plain": [
       "<matplotlib.legend.Legend at 0x7f84de0ed9e8>"
      ]
     },
     "execution_count": 58,
     "metadata": {},
     "output_type": "execute_result"
    },
    {
     "data": {
      "image/png": "[encoded data removed]",
      "text/plain": [
       "<matplotlib.figure.Figure at 0x7f84de1ddef0>"
      ]
     },
     "metadata": {},
     "output_type": "display_data"
    }
   ],
   "source": [
    "%matplotlib inline\n",
    "import matplotlib\n",
    "import matplotlib.pyplot as plt\n",
    "\n",
    "output = plt.hist([chi_squared_df2,chi_squared_df5], bins=100, histtype='step', \n",
    "                  label=['2 degrees of freedom','5 degrees of freedom'])\n",
    "plt.legend(loc='upper right')\n"
   ]
  },
  {
   "cell_type": "markdown",
   "metadata": {},
   "source": [
    "# Hypothesis Testing"
   ]
  },
  {
   "cell_type": "code",
   "execution_count": 59,
   "metadata": {
    "collapsed": true
   },
   "outputs": [],
   "source": [
    "df = pd.read_csv('grades.csv')"
   ]
  },
  {
   "cell_type": "code",
   "execution_count": 60,
   "metadata": {},
   "outputs": [
    {
     "data": {
      "text/html": [
       "<div>\n",
       "<table border=\"1\" class=\"dataframe\">\n",
       "  <thead>\n",
       "    <tr style=\"text-align: right;\">\n",
       "      <th></th>\n",
       "      <th>student_id</th>\n",
       "      <th>assignment1_grade</th>\n",
       "      <th>assignment1_submission</th>\n",
       "      <th>assignment2_grade</th>\n",
       "      <th>assignment2_submission</th>\n",
       "      <th>assignment3_grade</th>\n",
       "      <th>assignment3_submission</th>\n",
       "      <th>assignment4_grade</th>\n",
       "      <th>assignment4_submission</th>\n",
       "      <th>assignment5_grade</th>\n",
       "      <th>assignment5_submission</th>\n",
       "      <th>assignment6_grade</th>\n",
       "      <th>assignment6_submission</th>\n",
       "    </tr>\n",
       "  </thead>\n",
       "  <tbody>\n",
       "    <tr>\n",
       "      <th>0</th>\n",
       "      <td>B73F2C11-70F0-E37D-8B10-1D20AFED50B1</td>\n",
       "      <td>92.733946</td>\n",
       "      <td>2015-11-02 06:55:34.282000000</td>\n",
       "      <td>83.030552</td>\n",
       "      <td>2015-11-09 02:22:58.938000000</td>\n",
       "      <td>67.164441</td>\n",
       "      <td>2015-11-12 08:58:33.998000000</td>\n",
       "      <td>53.011553</td>\n",
       "      <td>2015-11-16 01:21:24.663000000</td>\n",
       "      <td>47.710398</td>\n",
       "      <td>2015-11-20 13:24:59.692000000</td>\n",
       "      <td>38.168318</td>\n",
       "      <td>2015-11-22 18:31:15.934000000</td>\n",
       "    </tr>\n",
       "    <tr>\n",
       "      <th>1</th>\n",
       "      <td>98A0FAE0-A19A-13D2-4BB5-CFBFD94031D1</td>\n",
       "      <td>86.790821</td>\n",
       "      <td>2015-11-29 14:57:44.429000000</td>\n",
       "      <td>86.290821</td>\n",
       "      <td>2015-12-06 17:41:18.449000000</td>\n",
       "      <td>69.772657</td>\n",
       "      <td>2015-12-10 08:54:55.904000000</td>\n",
       "      <td>55.098125</td>\n",
       "      <td>2015-12-13 17:32:30.941000000</td>\n",
       "      <td>49.588313</td>\n",
       "      <td>2015-12-19 23:26:39.285000000</td>\n",
       "      <td>44.629482</td>\n",
       "      <td>2015-12-21 17:07:24.275000000</td>\n",
       "    </tr>\n",
       "    <tr>\n",
       "      <th>2</th>\n",
       "      <td>D0F62040-CEB0-904C-F563-2F8620916C4E</td>\n",
       "      <td>85.512541</td>\n",
       "      <td>2016-01-09 05:36:02.389000000</td>\n",
       "      <td>85.512541</td>\n",
       "      <td>2016-01-09 06:39:44.416000000</td>\n",
       "      <td>68.410033</td>\n",
       "      <td>2016-01-15 20:22:45.882000000</td>\n",
       "      <td>54.728026</td>\n",
       "      <td>2016-01-11 12:41:50.749000000</td>\n",
       "      <td>49.255224</td>\n",
       "      <td>2016-01-11 17:31:12.489000000</td>\n",
       "      <td>44.329701</td>\n",
       "      <td>2016-01-17 16:24:42.765000000</td>\n",
       "    </tr>\n",
       "    <tr>\n",
       "      <th>3</th>\n",
       "      <td>FFDF2B2C-F514-EF7F-6538-A6A53518E9DC</td>\n",
       "      <td>86.030665</td>\n",
       "      <td>2016-04-30 06:50:39.801000000</td>\n",
       "      <td>68.824532</td>\n",
       "      <td>2016-04-30 17:20:38.727000000</td>\n",
       "      <td>61.942079</td>\n",
       "      <td>2016-05-12 07:47:16.326000000</td>\n",
       "      <td>49.553663</td>\n",
       "      <td>2016-05-07 16:09:20.485000000</td>\n",
       "      <td>49.553663</td>\n",
       "      <td>2016-05-24 12:51:18.016000000</td>\n",
       "      <td>44.598297</td>\n",
       "      <td>2016-05-26 08:09:12.058000000</td>\n",
       "    </tr>\n",
       "    <tr>\n",
       "      <th>4</th>\n",
       "      <td>5ECBEEB6-F1CE-80AE-3164-E45E99473FB4</td>\n",
       "      <td>64.813800</td>\n",
       "      <td>2015-12-13 17:06:10.750000000</td>\n",
       "      <td>51.491040</td>\n",
       "      <td>2015-12-14 12:25:12.056000000</td>\n",
       "      <td>41.932832</td>\n",
       "      <td>2015-12-29 14:25:22.594000000</td>\n",
       "      <td>36.929549</td>\n",
       "      <td>2015-12-28 01:29:55.901000000</td>\n",
       "      <td>33.236594</td>\n",
       "      <td>2015-12-29 14:46:06.628000000</td>\n",
       "      <td>33.236594</td>\n",
       "      <td>2016-01-05 01:06:59.546000000</td>\n",
       "    </tr>\n",
       "  </tbody>\n",
       "</table>\n",
       "</div>"
      ],
      "text/plain": [
       "                             student_id  assignment1_grade  \\\n",
       "0  B73F2C11-70F0-E37D-8B10-1D20AFED50B1          92.733946   \n",
       "1  98A0FAE0-A19A-13D2-4BB5-CFBFD94031D1          86.790821   \n",
       "2  D0F62040-CEB0-904C-F563-2F8620916C4E          85.512541   \n",
       "3  FFDF2B2C-F514-EF7F-6538-A6A53518E9DC          86.030665   \n",
       "4  5ECBEEB6-F1CE-80AE-3164-E45E99473FB4          64.813800   \n",
       "\n",
       "          assignment1_submission  assignment2_grade  \\\n",
       "0  2015-11-02 06:55:34.282000000          83.030552   \n",
       "1  2015-11-29 14:57:44.429000000          86.290821   \n",
       "2  2016-01-09 05:36:02.389000000          85.512541   \n",
       "3  2016-04-30 06:50:39.801000000          68.824532   \n",
       "4  2015-12-13 17:06:10.750000000          51.491040   \n",
       "\n",
       "          assignment2_submission  assignment3_grade  \\\n",
       "0  2015-11-09 02:22:58.938000000          67.164441   \n",
       "1  2015-12-06 17:41:18.449000000          69.772657   \n",
       "2  2016-01-09 06:39:44.416000000          68.410033   \n",
       "3  2016-04-30 17:20:38.727000000          61.942079   \n",
       "4  2015-12-14 12:25:12.056000000          41.932832   \n",
       "\n",
       "          assignment3_submission  assignment4_grade  \\\n",
       "0  2015-11-12 08:58:33.998000000          53.011553   \n",
       "1  2015-12-10 08:54:55.904000000          55.098125   \n",
       "2  2016-01-15 20:22:45.882000000          54.728026   \n",
       "3  2016-05-12 07:47:16.326000000          49.553663   \n",
       "4  2015-12-29 14:25:22.594000000          36.929549   \n",
       "\n",
       "          assignment4_submission  assignment5_grade  \\\n",
       "0  2015-11-16 01:21:24.663000000          47.710398   \n",
       "1  2015-12-13 17:32:30.941000000          49.588313   \n",
       "2  2016-01-11 12:41:50.749000000          49.255224   \n",
       "3  2016-05-07 16:09:20.485000000          49.553663   \n",
       "4  2015-12-28 01:29:55.901000000          33.236594   \n",
       "\n",
       "          assignment5_submission  assignment6_grade  \\\n",
       "0  2015-11-20 13:24:59.692000000          38.168318   \n",
       "1  2015-12-19 23:26:39.285000000          44.629482   \n",
       "2  2016-01-11 17:31:12.489000000          44.329701   \n",
       "3  2016-05-24 12:51:18.016000000          44.598297   \n",
       "4  2015-12-29 14:46:06.628000000          33.236594   \n",
       "\n",
       "          assignment6_submission  \n",
       "0  2015-11-22 18:31:15.934000000  \n",
       "1  2015-12-21 17:07:24.275000000  \n",
       "2  2016-01-17 16:24:42.765000000  \n",
       "3  2016-05-26 08:09:12.058000000  \n",
       "4  2016-01-05 01:06:59.546000000  "
      ]
     },
     "execution_count": 60,
     "metadata": {},
     "output_type": "execute_result"
    }
   ],
   "source": [
    "df.head()"
   ]
  },
  {
   "cell_type": "code",
   "execution_count": null,
   "metadata": {
    "collapsed": true
   },
   "outputs": [],
   "source": [
    "len(df)"
   ]
  },
  {
   "cell_type": "code",
   "execution_count": 61,
   "metadata": {
    "collapsed": true
   },
   "outputs": [],
   "source": [
    "early = df[df['assignment1_submission'] <= '2015-12-31']\n",
    "late = df[df['assignment1_submission'] > '2015-12-31']"
   ]
  },
  {
   "cell_type": "code",
   "execution_count": 62,
   "metadata": {},
   "outputs": [
    {
     "data": {
      "text/plain": [
       "assignment1_grade    74.972741\n",
       "assignment2_grade    67.252190\n",
       "assignment3_grade    61.129050\n",
       "assignment4_grade    54.157620\n",
       "assignment5_grade    48.634643\n",
       "assignment6_grade    43.838980\n",
       "dtype: float64"
      ]
     },
     "execution_count": 62,
     "metadata": {},
     "output_type": "execute_result"
    }
   ],
   "source": [
    "early.mean()"
   ]
  },
  {
   "cell_type": "code",
   "execution_count": 63,
   "metadata": {},
   "outputs": [
    {
     "data": {
      "text/plain": [
       "assignment1_grade    74.017429\n",
       "assignment2_grade    66.370822\n",
       "assignment3_grade    60.023244\n",
       "assignment4_grade    54.058138\n",
       "assignment5_grade    48.599402\n",
       "assignment6_grade    43.844384\n",
       "dtype: float64"
      ]
     },
     "execution_count": 63,
     "metadata": {},
     "output_type": "execute_result"
    }
   ],
   "source": [
    "late.mean()"
   ]
  },
  {
   "cell_type": "code",
   "execution_count": 1,
   "metadata": {
    "collapsed": true
   },
   "outputs": [],
   "source": [
    "from scipy import stats\n",
    "stats.ttest_ind?"
   ]
  },
  {
   "cell_type": "code",
   "execution_count": 65,
   "metadata": {},
   "outputs": [
    {
     "data": {
      "text/plain": [
       "Ttest_indResult(statistic=1.400549944897566, pvalue=0.16148283016060577)"
      ]
     },
     "execution_count": 65,
     "metadata": {},
     "output_type": "execute_result"
    }
   ],
   "source": [
    "stats.ttest_ind(early['assignment1_grade'], late['assignment1_grade'])"
   ]
  },
  {
   "cell_type": "code",
   "execution_count": 66,
   "metadata": {},
   "outputs": [
    {
     "data": {
      "text/plain": [
       "Ttest_indResult(statistic=1.3239868220912567, pvalue=0.18563824610067967)"
      ]
     },
     "execution_count": 66,
     "metadata": {},
     "output_type": "execute_result"
    }
   ],
   "source": [
    "stats.ttest_ind(early['assignment2_grade'], late['assignment2_grade'])"
   ]
  },
  {
   "cell_type": "code",
   "execution_count": 67,
   "metadata": {},
   "outputs": [
    {
     "data": {
      "text/plain": [
       "Ttest_indResult(statistic=1.7116160037010733, pvalue=0.087101516341556676)"
      ]
     },
     "execution_count": 67,
     "metadata": {},
     "output_type": "execute_result"
    }
   ],
   "source": [
    "stats.ttest_ind(early['assignment3_grade'], late['assignment3_grade'])"
   ]
  },
  {
   "cell_type": "code",
   "execution_count": null,
   "metadata": {
    "collapsed": true
   },
   "outputs": [],
   "source": []
  }
 ],
 "metadata": {
  "kernelspec": {
   "display_name": "Python 3",
   "language": "python",
   "name": "python3"
  },
  "language_info": {
   "codemirror_mode": {
    "name": "ipython",
    "version": 3
   },
   "file_extension": ".py",
   "mimetype": "text/x-python",
   "name": "python",
   "nbconvert_exporter": "python",
   "pygments_lexer": "ipython3",
   "version": "3.6.0"
  }
 },
 "nbformat": 4,
 "nbformat_minor": 1
}
